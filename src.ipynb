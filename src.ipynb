{
 "cells": [
  {
   "cell_type": "code",
   "execution_count": 60,
   "metadata": {},
   "outputs": [
    {
     "name": "stderr",
     "output_type": "stream",
     "text": [
      "C:\\Users\\Radwa.Abdallah\\AppData\\Local\\Temp\\ipykernel_4212\\817162211.py:13: UserWarning: pandas only supports SQLAlchemy connectable (engine/connection) or database string URI or sqlite3 DBAPI2 connection. Other DBAPI2 objects are not tested. Please consider using SQLAlchemy.\n",
      "  df = pd.read_sql(query1, newcon)\n",
      "C:\\Users\\Radwa.Abdallah\\AppData\\Local\\Temp\\ipykernel_4212\\817162211.py:14: UserWarning: pandas only supports SQLAlchemy connectable (engine/connection) or database string URI or sqlite3 DBAPI2 connection. Other DBAPI2 objects are not tested. Please consider using SQLAlchemy.\n",
      "  df2=pd.read_sql(query2,newcon)\n",
      "C:\\Users\\Radwa.Abdallah\\AppData\\Local\\Temp\\ipykernel_4212\\817162211.py:15: UserWarning: pandas only supports SQLAlchemy connectable (engine/connection) or database string URI or sqlite3 DBAPI2 connection. Other DBAPI2 objects are not tested. Please consider using SQLAlchemy.\n",
      "  df3=pd.read_sql(query3,newcon)\n"
     ]
    },
    {
     "name": "stdout",
     "output_type": "stream",
     "text": [
      "domain\n",
      "com    339\n",
      "net    320\n",
      "org    341\n",
      "Name: domain, dtype: int64\n"
     ]
    }
   ],
   "source": [
    "import pyodbc as odbc\n",
    "import os\n",
    "import pandas as pd\n",
    "server = 'BI-R-ABDALLAH' \n",
    "database = 'MY_DATABASE' \n",
    "username = 'sa' \n",
    "password = 'P@ssw0rd@radwa' \n",
    "newcon = odbc.connect('DRIVER={SQL Server};SERVER='+server+';DATABASE='+database+';UID='+username+';PWD='+ password)\n",
    "query1 = \"SELECT * FROM [dbo].[customers-1000];\"\n",
    "query2 = \"SELECT * FROM [dbo].[organizations-1000];\"\n",
    "query3 = \"SELECT * FROM [dbo].[people-1000];\"\n",
    "\n",
    "df = pd.read_sql(query1, newcon)\n",
    "df2=pd.read_sql(query2,newcon)\n",
    "df3=pd.read_sql(query3,newcon)\n",
    "#print(df.head(10))\n",
    "extracted_col= df3[\"User Id\"]\n",
    "df = pd.concat([df, extracted_col])\n",
    "#df[df[\"User Id\"].notna()]\n",
    "df2=pd.concat([df2,extracted_col])\n",
    "#df2[df2[\"User Id\"].notna()]\n",
    "df_all=pd.merge(pd.merge(df,df2,on='User Id'),df3,on='User Id')\n",
    "\n",
    "df_all[['droped_email','domain']]=df_all[\"Email_y\"].str.rsplit(\".\", expand=True)\n",
    "\n",
    "df_all = df_all.drop('droped_email', axis=1)\n",
    "#df_all\n",
    "print(df_all.groupby(['domain'])['domain'].count())"
   ]
  }
 ],
 "metadata": {
  "kernelspec": {
   "display_name": "Python 3",
   "language": "python",
   "name": "python3"
  },
  "language_info": {
   "codemirror_mode": {
    "name": "ipython",
    "version": 3
   },
   "file_extension": ".py",
   "mimetype": "text/x-python",
   "name": "python",
   "nbconvert_exporter": "python",
   "pygments_lexer": "ipython3",
   "version": "3.12.2"
  }
 },
 "nbformat": 4,
 "nbformat_minor": 2
}
